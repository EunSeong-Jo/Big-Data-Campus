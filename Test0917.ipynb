{
 "cells": [
  {
   "cell_type": "code",
   "execution_count": null,
   "id": "019b20a0-6102-417c-b4f5-237b96b906bf",
   "metadata": {},
   "outputs": [],
   "source": [
    "import numpy as np\n",
    "import pandas as pd\n",
    "import matplotlib.pyplot as plt\n",
    "import seaborn as sns\n",
    "import re\n",
    "import os\n",
    "import glob"
   ]
  },
  {
   "cell_type": "code",
   "execution_count": 4,
   "id": "5e20d841-08d8-4209-9b2c-7fbb8dcd96a5",
   "metadata": {},
   "outputs": [
    {
     "name": "stdout",
     "output_type": "stream",
     "text": [
      "Hello World\n"
     ]
    }
   ],
   "source": [
    "print(\"Hello World\")"
   ]
  },
  {
   "cell_type": "markdown",
   "id": "87977a24",
   "metadata": {},
   "source": [
    "# 폴리곤 - 행정동 코드 매칭 후 딕셔너리화"
   ]
  },
  {
   "cell_type": "code",
   "execution_count": null,
   "id": "2ec6f1b0-44f0-462c-b384-51415c100baf",
   "metadata": {},
   "outputs": [],
   "source": [
    "# code = pd.read_csv('polyCode.txt', sep = \"|\")\n",
    "# code['polycode'] = code['`polycode`'].str.replace('`', '', regex = False)\n",
    "# code['name'] = code['`name`'].str.replace('`', '', regex = False)\n",
    "# code['full_name'] = code['`full_name`'].str.replace('`', '', regex = False)\n",
    "# codeDict = dict(zip(code['polycode'], code['full_name']))"
   ]
  },
  {
   "cell_type": "code",
   "execution_count": null,
   "id": "3f332fc7-90df-4958-9257-7ba3e7a3b60e",
   "metadata": {},
   "outputs": [
    {
     "data": {
      "text/html": [
       "<div>\n",
       "<style scoped>\n",
       "    .dataframe tbody tr th:only-of-type {\n",
       "        vertical-align: middle;\n",
       "    }\n",
       "\n",
       "    .dataframe tbody tr th {\n",
       "        vertical-align: top;\n",
       "    }\n",
       "\n",
       "    .dataframe thead th {\n",
       "        text-align: right;\n",
       "    }\n",
       "</style>\n",
       "<table border=\"1\" class=\"dataframe\">\n",
       "  <thead>\n",
       "    <tr style=\"text-align: right;\">\n",
       "      <th></th>\n",
       "      <th>출발일시(start_dt)</th>\n",
       "      <th>도착일시(arv_dt)</th>\n",
       "      <th>출발지 코드(start_place_cd)</th>\n",
       "      <th>도착지 코드(arv_place_cd)</th>\n",
       "      <th>성별(sex_nm)</th>\n",
       "      <th>연령대(agegrd_nm)</th>\n",
       "      <th>출발 도착지 이동유형(start_arv_place_type)</th>\n",
       "      <th>총이동시간(mvmn_time_sum)</th>\n",
       "      <th>이동거리(mvmn_dstc)</th>\n",
       "      <th>인구수(popl_cnt)</th>\n",
       "    </tr>\n",
       "  </thead>\n",
       "  <tbody>\n",
       "    <tr>\n",
       "      <th>0</th>\n",
       "      <td>2019-09-30 05:00</td>\n",
       "      <td>2019-10-01 01:00</td>\n",
       "      <td>110107</td>\n",
       "      <td>350124</td>\n",
       "      <td>F</td>\n",
       "      <td>15</td>\n",
       "      <td>HE</td>\n",
       "      <td>1194</td>\n",
       "      <td>188308</td>\n",
       "      <td>4.06</td>\n",
       "    </tr>\n",
       "    <tr>\n",
       "      <th>1</th>\n",
       "      <td>2019-09-30 06:00</td>\n",
       "      <td>2019-10-01 00:20</td>\n",
       "      <td>110987</td>\n",
       "      <td>340217</td>\n",
       "      <td>M</td>\n",
       "      <td>25</td>\n",
       "      <td>EH</td>\n",
       "      <td>1086</td>\n",
       "      <td>82548</td>\n",
       "      <td>2.29</td>\n",
       "    </tr>\n",
       "    <tr>\n",
       "      <th>2</th>\n",
       "      <td>2019-09-30 06:20</td>\n",
       "      <td>2019-10-01 00:00</td>\n",
       "      <td>210353</td>\n",
       "      <td>111424</td>\n",
       "      <td>M</td>\n",
       "      <td>60</td>\n",
       "      <td>EH</td>\n",
       "      <td>1051</td>\n",
       "      <td>312459</td>\n",
       "      <td>3.48</td>\n",
       "    </tr>\n",
       "    <tr>\n",
       "      <th>3</th>\n",
       "      <td>2019-09-30 06:40</td>\n",
       "      <td>2019-10-01 01:00</td>\n",
       "      <td>111476</td>\n",
       "      <td>350476</td>\n",
       "      <td>F</td>\n",
       "      <td>20</td>\n",
       "      <td>HE</td>\n",
       "      <td>1105</td>\n",
       "      <td>167493</td>\n",
       "      <td>2.18</td>\n",
       "    </tr>\n",
       "    <tr>\n",
       "      <th>4</th>\n",
       "      <td>2019-09-30 07:00</td>\n",
       "      <td>2019-10-01 01:00</td>\n",
       "      <td>230489</td>\n",
       "      <td>110189</td>\n",
       "      <td>F</td>\n",
       "      <td>45</td>\n",
       "      <td>HE</td>\n",
       "      <td>1077</td>\n",
       "      <td>62420</td>\n",
       "      <td>3.34</td>\n",
       "    </tr>\n",
       "  </tbody>\n",
       "</table>\n",
       "</div>"
      ],
      "text/plain": [
       "     출발일시(start_dt)      도착일시(arv_dt)  출발지 코드(start_place_cd)  \\\n",
       "0  2019-09-30 05:00  2019-10-01 01:00                  110107   \n",
       "1  2019-09-30 06:00  2019-10-01 00:20                  110987   \n",
       "2  2019-09-30 06:20  2019-10-01 00:00                  210353   \n",
       "3  2019-09-30 06:40  2019-10-01 01:00                  111476   \n",
       "4  2019-09-30 07:00  2019-10-01 01:00                  230489   \n",
       "\n",
       "   도착지 코드(arv_place_cd) 성별(sex_nm)  연령대(agegrd_nm)  \\\n",
       "0                350124          F              15   \n",
       "1                340217          M              25   \n",
       "2                111424          M              60   \n",
       "3                350476          F              20   \n",
       "4                110189          F              45   \n",
       "\n",
       "  출발 도착지 이동유형(start_arv_place_type)  총이동시간(mvmn_time_sum)  이동거리(mvmn_dstc)  \\\n",
       "0                                HE                  1194           188308   \n",
       "1                                EH                  1086            82548   \n",
       "2                                EH                  1051           312459   \n",
       "3                                HE                  1105           167493   \n",
       "4                                HE                  1077            62420   \n",
       "\n",
       "   인구수(popl_cnt)  \n",
       "0           4.06  \n",
       "1           2.29  \n",
       "2           3.48  \n",
       "3           2.18  \n",
       "4           3.34  "
      ]
     },
     "execution_count": 22,
     "metadata": {},
     "output_type": "execute_result"
    }
   ],
   "source": [
    "# Sample 데이터 확인용\n",
    "data0701 = pd.read_csv('E:\\\\DMU\\\\공모전 등\\\\Seoul BigData\\\\Big-Data-Campus\\\\Sample_Data\\\\csv\\\\서울시 내국인 KT 생활이동 데이터.csv', sep = ',', encoding = 'euc-kr')\n",
    "data0701.head()"
   ]
  },
  {
   "cell_type": "code",
   "execution_count": 24,
   "id": "2de8b557",
   "metadata": {},
   "outputs": [],
   "source": [
    "data0701.columns = [re.sub(r'[^a-zA-Z_]', '', col) for col in data0701.columns]"
   ]
  },
  {
   "cell_type": "code",
   "execution_count": 25,
   "id": "f3f0e7e3",
   "metadata": {},
   "outputs": [
    {
     "data": {
      "text/html": [
       "<div>\n",
       "<style scoped>\n",
       "    .dataframe tbody tr th:only-of-type {\n",
       "        vertical-align: middle;\n",
       "    }\n",
       "\n",
       "    .dataframe tbody tr th {\n",
       "        vertical-align: top;\n",
       "    }\n",
       "\n",
       "    .dataframe thead th {\n",
       "        text-align: right;\n",
       "    }\n",
       "</style>\n",
       "<table border=\"1\" class=\"dataframe\">\n",
       "  <thead>\n",
       "    <tr style=\"text-align: right;\">\n",
       "      <th></th>\n",
       "      <th>start_dt</th>\n",
       "      <th>arv_dt</th>\n",
       "      <th>start_place_cd</th>\n",
       "      <th>arv_place_cd</th>\n",
       "      <th>sex_nm</th>\n",
       "      <th>agegrd_nm</th>\n",
       "      <th>start_arv_place_type</th>\n",
       "      <th>mvmn_time_sum</th>\n",
       "      <th>mvmn_dstc</th>\n",
       "      <th>popl_cnt</th>\n",
       "    </tr>\n",
       "  </thead>\n",
       "  <tbody>\n",
       "    <tr>\n",
       "      <th>0</th>\n",
       "      <td>2019-09-30 05:00</td>\n",
       "      <td>2019-10-01 01:00</td>\n",
       "      <td>110107</td>\n",
       "      <td>350124</td>\n",
       "      <td>F</td>\n",
       "      <td>15</td>\n",
       "      <td>HE</td>\n",
       "      <td>1194</td>\n",
       "      <td>188308</td>\n",
       "      <td>4.06</td>\n",
       "    </tr>\n",
       "    <tr>\n",
       "      <th>1</th>\n",
       "      <td>2019-09-30 06:00</td>\n",
       "      <td>2019-10-01 00:20</td>\n",
       "      <td>110987</td>\n",
       "      <td>340217</td>\n",
       "      <td>M</td>\n",
       "      <td>25</td>\n",
       "      <td>EH</td>\n",
       "      <td>1086</td>\n",
       "      <td>82548</td>\n",
       "      <td>2.29</td>\n",
       "    </tr>\n",
       "    <tr>\n",
       "      <th>2</th>\n",
       "      <td>2019-09-30 06:20</td>\n",
       "      <td>2019-10-01 00:00</td>\n",
       "      <td>210353</td>\n",
       "      <td>111424</td>\n",
       "      <td>M</td>\n",
       "      <td>60</td>\n",
       "      <td>EH</td>\n",
       "      <td>1051</td>\n",
       "      <td>312459</td>\n",
       "      <td>3.48</td>\n",
       "    </tr>\n",
       "    <tr>\n",
       "      <th>3</th>\n",
       "      <td>2019-09-30 06:40</td>\n",
       "      <td>2019-10-01 01:00</td>\n",
       "      <td>111476</td>\n",
       "      <td>350476</td>\n",
       "      <td>F</td>\n",
       "      <td>20</td>\n",
       "      <td>HE</td>\n",
       "      <td>1105</td>\n",
       "      <td>167493</td>\n",
       "      <td>2.18</td>\n",
       "    </tr>\n",
       "    <tr>\n",
       "      <th>4</th>\n",
       "      <td>2019-09-30 07:00</td>\n",
       "      <td>2019-10-01 01:00</td>\n",
       "      <td>230489</td>\n",
       "      <td>110189</td>\n",
       "      <td>F</td>\n",
       "      <td>45</td>\n",
       "      <td>HE</td>\n",
       "      <td>1077</td>\n",
       "      <td>62420</td>\n",
       "      <td>3.34</td>\n",
       "    </tr>\n",
       "  </tbody>\n",
       "</table>\n",
       "</div>"
      ],
      "text/plain": [
       "           start_dt            arv_dt  start_place_cd  arv_place_cd sex_nm  \\\n",
       "0  2019-09-30 05:00  2019-10-01 01:00          110107        350124      F   \n",
       "1  2019-09-30 06:00  2019-10-01 00:20          110987        340217      M   \n",
       "2  2019-09-30 06:20  2019-10-01 00:00          210353        111424      M   \n",
       "3  2019-09-30 06:40  2019-10-01 01:00          111476        350476      F   \n",
       "4  2019-09-30 07:00  2019-10-01 01:00          230489        110189      F   \n",
       "\n",
       "   agegrd_nm start_arv_place_type  mvmn_time_sum  mvmn_dstc  popl_cnt  \n",
       "0         15                   HE           1194     188308      4.06  \n",
       "1         25                   EH           1086      82548      2.29  \n",
       "2         60                   EH           1051     312459      3.48  \n",
       "3         20                   HE           1105     167493      2.18  \n",
       "4         45                   HE           1077      62420      3.34  "
      ]
     },
     "execution_count": 25,
     "metadata": {},
     "output_type": "execute_result"
    }
   ],
   "source": [
    "data0701.head()"
   ]
  },
  {
   "cell_type": "code",
   "execution_count": 26,
   "id": "7b075580-dc9d-425b-8d83-02f0e0ed218a",
   "metadata": {},
   "outputs": [],
   "source": [
    "data0701['start_place_cd'] = data0701['start_place_cd'].astype(str)\n",
    "data0701['arv_place_cd'] = data0701['arv_place_cd'].astype(str)"
   ]
  },
  {
   "cell_type": "code",
   "execution_count": 27,
   "id": "8f50e194-c886-43f0-b867-175730476030",
   "metadata": {},
   "outputs": [
    {
     "data": {
      "text/plain": [
       "0    110107\n",
       "1    110987\n",
       "2    210353\n",
       "3    111476\n",
       "4    230489\n",
       "Name: start_place_cd, dtype: object"
      ]
     },
     "execution_count": 27,
     "metadata": {},
     "output_type": "execute_result"
    }
   ],
   "source": [
    "data0701['start_place_cd'].head()"
   ]
  },
  {
   "cell_type": "code",
   "execution_count": 28,
   "id": "dd6eef19-561f-495c-9e3b-c67306b4a910",
   "metadata": {},
   "outputs": [],
   "source": [
    "# data0701.head()"
   ]
  },
  {
   "cell_type": "code",
   "execution_count": 29,
   "id": "48ca6bbd-06a3-4818-90f5-7e4488b4fcc7",
   "metadata": {},
   "outputs": [
    {
     "name": "stdout",
     "output_type": "stream",
     "text": [
      "Hello\n"
     ]
    }
   ],
   "source": [
    "print(\"Hello\")"
   ]
  },
  {
   "cell_type": "code",
   "execution_count": null,
   "id": "6a6ce1a4-13a5-4360-951e-54a69f463ca3",
   "metadata": {},
   "outputs": [
    {
     "ename": "NameError",
     "evalue": "name 'codeDict' is not defined",
     "output_type": "error",
     "traceback": [
      "\u001b[1;31m---------------------------------------------------------------------------\u001b[0m",
      "\u001b[1;31mNameError\u001b[0m                                 Traceback (most recent call last)",
      "Cell \u001b[1;32mIn[30], line 1\u001b[0m\n\u001b[1;32m----> 1\u001b[0m data0701[\u001b[38;5;124m'\u001b[39m\u001b[38;5;124mstart_place_cd\u001b[39m\u001b[38;5;124m'\u001b[39m] \u001b[38;5;241m=\u001b[39m data0701[\u001b[38;5;124m'\u001b[39m\u001b[38;5;124mstart_place_cd\u001b[39m\u001b[38;5;124m'\u001b[39m]\u001b[38;5;241m.\u001b[39mmap(\u001b[43mcodeDict\u001b[49m)\n\u001b[0;32m      2\u001b[0m data0701[\u001b[38;5;124m'\u001b[39m\u001b[38;5;124marv_place_cd\u001b[39m\u001b[38;5;124m'\u001b[39m] \u001b[38;5;241m=\u001b[39m data0701[\u001b[38;5;124m'\u001b[39m\u001b[38;5;124marv_place_cd\u001b[39m\u001b[38;5;124m'\u001b[39m]\u001b[38;5;241m.\u001b[39mmap(codeDict)\n",
      "\u001b[1;31mNameError\u001b[0m: name 'codeDict' is not defined"
     ]
    }
   ],
   "source": [
    "# data0701['start_place_cd'] = data0701['start_place_cd'].map(codeDict)\n",
    "# data0701['arv_place_cd'] = data0701['arv_place_cd'].map(codeDict)"
   ]
  },
  {
   "cell_type": "code",
   "execution_count": 34,
   "id": "1510a127-0d91-4c28-a02e-6e6deff10dce",
   "metadata": {},
   "outputs": [],
   "source": [
    "# data0701.head()"
   ]
  },
  {
   "cell_type": "code",
   "execution_count": 31,
   "id": "929bf76a-bb13-4eb1-b314-998c0b0655e5",
   "metadata": {},
   "outputs": [],
   "source": [
    "data0701['start_dt'] = pd.to_datetime(data0701['start_dt'])"
   ]
  },
  {
   "cell_type": "code",
   "execution_count": 32,
   "id": "c721db2d-ceeb-4bc7-b84a-7e33bb0b9f7a",
   "metadata": {},
   "outputs": [],
   "source": [
    "data0701['move_st_hr'] = data0701['start_dt'].dt.floor(\"h\")"
   ]
  },
  {
   "cell_type": "code",
   "execution_count": 33,
   "id": "5e0d4d80-1718-4607-b209-dcc0e8267691",
   "metadata": {},
   "outputs": [
    {
     "data": {
      "text/plain": [
       "0     2019-09-30 05:00:00\n",
       "1     2019-09-30 06:00:00\n",
       "2     2019-09-30 06:00:00\n",
       "3     2019-09-30 06:00:00\n",
       "4     2019-09-30 07:00:00\n",
       "              ...        \n",
       "395   2019-09-30 16:00:00\n",
       "396   2019-09-30 16:00:00\n",
       "397   2019-09-30 16:00:00\n",
       "398   2019-09-30 16:00:00\n",
       "399   2019-09-30 16:00:00\n",
       "Name: move_st_hr, Length: 400, dtype: datetime64[ns]"
      ]
     },
     "execution_count": 33,
     "metadata": {},
     "output_type": "execute_result"
    }
   ],
   "source": [
    "data0701['move_st_hr']"
   ]
  },
  {
   "cell_type": "code",
   "execution_count": 34,
   "id": "f6becae0-bde8-4f1e-a42a-5f9107099988",
   "metadata": {},
   "outputs": [],
   "source": [
    "data0701['arv_dt'] = pd.to_datetime(data0701['arv_dt'])\n",
    "data0701['move_arv_hr'] = data0701['arv_dt'].dt.floor(\"h\")"
   ]
  },
  {
   "cell_type": "code",
   "execution_count": 35,
   "id": "2942f567-46e6-4fe2-92d7-6a6891e3c618",
   "metadata": {},
   "outputs": [
    {
     "data": {
      "text/html": [
       "<div>\n",
       "<style scoped>\n",
       "    .dataframe tbody tr th:only-of-type {\n",
       "        vertical-align: middle;\n",
       "    }\n",
       "\n",
       "    .dataframe tbody tr th {\n",
       "        vertical-align: top;\n",
       "    }\n",
       "\n",
       "    .dataframe thead th {\n",
       "        text-align: right;\n",
       "    }\n",
       "</style>\n",
       "<table border=\"1\" class=\"dataframe\">\n",
       "  <thead>\n",
       "    <tr style=\"text-align: right;\">\n",
       "      <th></th>\n",
       "      <th>move_st_hr</th>\n",
       "      <th>move_arv_hr</th>\n",
       "      <th>start_place_cd</th>\n",
       "      <th>arv_place_cd</th>\n",
       "      <th>sex_nm</th>\n",
       "    </tr>\n",
       "  </thead>\n",
       "  <tbody>\n",
       "    <tr>\n",
       "      <th>0</th>\n",
       "      <td>2019-09-30 05:00:00</td>\n",
       "      <td>2019-10-01 01:00:00</td>\n",
       "      <td>110107</td>\n",
       "      <td>350124</td>\n",
       "      <td>F</td>\n",
       "    </tr>\n",
       "    <tr>\n",
       "      <th>1</th>\n",
       "      <td>2019-09-30 06:00:00</td>\n",
       "      <td>2019-10-01 00:00:00</td>\n",
       "      <td>110987</td>\n",
       "      <td>340217</td>\n",
       "      <td>M</td>\n",
       "    </tr>\n",
       "    <tr>\n",
       "      <th>2</th>\n",
       "      <td>2019-09-30 06:00:00</td>\n",
       "      <td>2019-10-01 00:00:00</td>\n",
       "      <td>210353</td>\n",
       "      <td>111424</td>\n",
       "      <td>M</td>\n",
       "    </tr>\n",
       "    <tr>\n",
       "      <th>3</th>\n",
       "      <td>2019-09-30 06:00:00</td>\n",
       "      <td>2019-10-01 01:00:00</td>\n",
       "      <td>111476</td>\n",
       "      <td>350476</td>\n",
       "      <td>F</td>\n",
       "    </tr>\n",
       "    <tr>\n",
       "      <th>4</th>\n",
       "      <td>2019-09-30 07:00:00</td>\n",
       "      <td>2019-10-01 01:00:00</td>\n",
       "      <td>230489</td>\n",
       "      <td>110189</td>\n",
       "      <td>F</td>\n",
       "    </tr>\n",
       "  </tbody>\n",
       "</table>\n",
       "</div>"
      ],
      "text/plain": [
       "           move_st_hr         move_arv_hr start_place_cd arv_place_cd sex_nm\n",
       "0 2019-09-30 05:00:00 2019-10-01 01:00:00         110107       350124      F\n",
       "1 2019-09-30 06:00:00 2019-10-01 00:00:00         110987       340217      M\n",
       "2 2019-09-30 06:00:00 2019-10-01 00:00:00         210353       111424      M\n",
       "3 2019-09-30 06:00:00 2019-10-01 01:00:00         111476       350476      F\n",
       "4 2019-09-30 07:00:00 2019-10-01 01:00:00         230489       110189      F"
      ]
     },
     "execution_count": 35,
     "metadata": {},
     "output_type": "execute_result"
    }
   ],
   "source": [
    "data0701[['move_st_hr', 'move_arv_hr', 'start_place_cd', 'arv_place_cd', 'sex_nm']].head()"
   ]
  },
  {
   "cell_type": "code",
   "execution_count": 36,
   "id": "14df22e4-a58d-4a62-9f36-9b62d3724755",
   "metadata": {},
   "outputs": [],
   "source": [
    "data0701['age_grp'] = (data0701['agegrd_nm'] // 10 ) * 10"
   ]
  },
  {
   "cell_type": "code",
   "execution_count": 37,
   "id": "fa50a044-15d7-4739-a1f9-fb5064cfda09",
   "metadata": {},
   "outputs": [
    {
     "data": {
      "text/plain": [
       "0      10\n",
       "1      20\n",
       "2      60\n",
       "3      20\n",
       "4      40\n",
       "       ..\n",
       "395    50\n",
       "396    20\n",
       "397    50\n",
       "398    60\n",
       "399    50\n",
       "Name: age_grp, Length: 400, dtype: int64"
      ]
     },
     "execution_count": 37,
     "metadata": {},
     "output_type": "execute_result"
    }
   ],
   "source": [
    "data0701['age_grp']"
   ]
  },
  {
   "cell_type": "code",
   "execution_count": 38,
   "id": "60c6fdb2-c404-46cc-8846-691d6a461b07",
   "metadata": {},
   "outputs": [],
   "source": [
    "arange_datas = data0701[['move_st_hr', 'move_arv_hr', 'start_place_cd', 'arv_place_cd', 'sex_nm', 'age_grp','popl_cnt']]"
   ]
  },
  {
   "cell_type": "code",
   "execution_count": 39,
   "id": "498a2b42-75d8-4901-a39c-ca9f7b0c45a8",
   "metadata": {},
   "outputs": [],
   "source": [
    "arange_datas.to_csv('sample2.csv', encoding = 'euc-kr')"
   ]
  },
  {
   "cell_type": "code",
   "execution_count": null,
   "id": "7bd1f784-a4e9-44be-a5da-b20499dcf81b",
   "metadata": {},
   "outputs": [],
   "source": []
  },
  {
   "cell_type": "code",
   "execution_count": null,
   "id": "73d50499-7140-4ff2-836c-abc72c7cab19",
   "metadata": {},
   "outputs": [],
   "source": []
  },
  {
   "cell_type": "code",
   "execution_count": null,
   "id": "c78dd6d5-e030-4c92-9535-8afb904410db",
   "metadata": {},
   "outputs": [],
   "source": []
  },
  {
   "cell_type": "markdown",
   "id": "3f305342",
   "metadata": {},
   "source": [
    "# input_folder 에 있는 파일별 순회하며 집계한 csv파일로 출력"
   ]
  },
  {
   "cell_type": "code",
   "execution_count": null,
   "id": "789de5a7-58e1-4ca0-84b1-f984d4c7ee53",
   "metadata": {},
   "outputs": [],
   "source": [
    "import numpy as np\n",
    "import pandas as pd\n",
    "import matplotlib.pyplot as plt\n",
    "import seaborn as sns\n",
    "import re\n",
    "import os\n",
    "import glob\n",
    "\n",
    "# polyCode.txt 파일 읽기 (행정동 코드/이름 정보)\n",
    "code = pd.read_csv('polyCode.txt', sep=\"|\")\n",
    "\n",
    "# 컬럼 값에 포함된 ` 기호 제거\n",
    "code['polycode'] = code['`polycode`'].str.replace('`', '', regex=False)\n",
    "code['name'] = code['`name`'].str.replace('`', '', regex=False)\n",
    "code['full_name'] = code['`full_name`'].str.replace('`', '', regex=False)\n",
    "\n",
    "# polycode → full_name 매핑 딕셔너리 생성\n",
    "codeDict = dict(zip(code['polycode'], code['full_name']))\n",
    "\n",
    "# 입력/출력 폴더 지정\n",
    "input_folder = 'datas/kt_move/202507'\n",
    "output_folder = 'output_data_temp'\n",
    "os.makedirs(output_folder, exist_ok=True)   # 출력 폴더 없으면 생성\n",
    "\n",
    "# 입력 폴더 안의 모든 txt 파일 경로 가져오기\n",
    "file_list = glob.glob(os.path.join(input_folder, \"*.txt\"))\n",
    "\n",
    "for file_path in file_list:\n",
    "    file_name = os.path.basename(file_path)   # 파일 이름만 추출\n",
    "\n",
    "    # txt 파일 읽기\n",
    "    df = pd.read_csv(file_path, sep='|')\n",
    "\n",
    "    # 컬럼명 정리: 알파벳/언더바(_) 이외의 문자 제거\n",
    "    df.columns = [re.sub(r'[^a-zA-Z_]', '', col) for col in df.columns]\n",
    "\n",
    "    # 출발지/도착지 코드를 문자열로 변환\n",
    "    df['start_place_cd'] = df['start_place_cd'].astype(str)\n",
    "    df['arv_place_cd'] = df['arv_place_cd'].astype(str)\n",
    "\n",
    "    # 코드값을 행정동 풀네임으로 매핑\n",
    "    df['start_place_cd'] = df['start_place_cd'].map(codeDict)\n",
    "    df['arv_place_cd'] = df['arv_place_cd'].map(codeDict)\n",
    "    \n",
    "    # 출발/도착 시간 datetime 변환\n",
    "    df['start_dt'] = pd.to_datetime(df['start_dt'])\n",
    "    df['move_st_hr'] = df['start_dt'].dt.floor(\"h\")   # 출발 시간을 '시' 단위로 내림\n",
    "    df['arv_dt'] = pd.to_datetime(df['arv_dt'])\n",
    "    df['move_arv_hr'] = df['arv_dt'].dt.floor(\"h\")   # 도착 시간을 '시' 단위로 내림\n",
    "    \n",
    "    # (필터링용 코드 — 현재는 주석 처리됨)\n",
    "    # arange_datas = df[['move_st_hr', 'move_arv_hr', 'start_place_cd', 'arv_place_cd', 'sex_nm', 'age_grp','popl_cnt']]\n",
    "    # mask = (arange_datas['move_st_hr'].dt.hour >= 11) & (arange_datas['move_st_hr'].dt.hour <= 16) \\\n",
    "    #      | (arange_datas['move_arv_hr'].dt.hour >= 11) & (arange_datas['move_arv_hr'].dt.hour <= 16)\n",
    "    # arange_datas = arange_datas[mask]\n",
    "\n",
    "    # 시간대·연령대별 출발 인구수 합계\n",
    "    start_df_time = df.groupby(['move_st_hr', 'age_grp'])['popl_cnt'].sum().reset_index()\n",
    "    # 시간대·연령대별 도착 인구수 합계\n",
    "    arv_df_time = df.groupby(['move_arv_hr', 'age_grp'])['popl_cnt'].sum().reset_index()\n",
    "\n",
    "    # 행정동 단위 집계 (출발 기준)\n",
    "    start_df_time_dong = df.groupby(['start_dt', 'age_grp', '행정동 컬럼명'])['popl_cnt'].sum().reset_index()\n",
    "    # 행정동 단위 집계 (도착 기준)\n",
    "    arv_df_time_dong = df.groupby(['arv_dt', 'age_grp', '행정동 컬럼명'])['popl_cnt'].sum().reset_index()\n",
    "\n",
    "    # 연령대(10살 단위) 변환\n",
    "    df['age_grp'] = (df['agegrd_nm'] // 10) * 10\n",
    "    \n",
    "    # 저장할 파일명 정의\n",
    "    file_name1 = str(file_name)+\" start_time\".replace('.txt', '.csv')\n",
    "    file_name2 = str(file_name)+\" arv_time\".replace('.txt', '.csv')\n",
    "    file_name3 = str(file_name)+\" start_dong_time\".replace('.txt', '.csv')\n",
    "    file_name4 = str(file_name)+\" arv_dong_time\".replace('.txt', '.csv')\n",
    "\n",
    "    # 저장 경로 설정\n",
    "    output_path1 = os.path.join(output_folder, file_name1)\n",
    "    output_path2 = os.path.join(output_folder, file_name2)\n",
    "    output_path3 = os.path.join(output_folder, file_name3)\n",
    "    output_path4 = os.path.join(output_folder, file_name4)\n",
    "\n",
    "    # 각각 다른 집계 데이터를 CSV로 저장\n",
    "    start_df_time.to_csv(output_path1, index=False, encoding='euc-kr')\n",
    "    arv_df_time.to_csv(output_path2, index=False, encoding='euc-kr')\n",
    "    start_df_time_dong.to_csv(output_path3, index=False, encoding='euc-kr')\n",
    "    arv_df_time_dong.to_csv(output_path4, index=False, encoding='euc-kr')\n"
   ]
  },
  {
   "cell_type": "code",
   "execution_count": 54,
   "id": "9d13f1da-d153-436c-bc90-5a4501a1c0d2",
   "metadata": {},
   "outputs": [
    {
     "data": {
      "text/html": [
       "<div>\n",
       "<style scoped>\n",
       "    .dataframe tbody tr th:only-of-type {\n",
       "        vertical-align: middle;\n",
       "    }\n",
       "\n",
       "    .dataframe tbody tr th {\n",
       "        vertical-align: top;\n",
       "    }\n",
       "\n",
       "    .dataframe thead th {\n",
       "        text-align: right;\n",
       "    }\n",
       "</style>\n",
       "<table border=\"1\" class=\"dataframe\">\n",
       "  <thead>\n",
       "    <tr style=\"text-align: right;\">\n",
       "      <th></th>\n",
       "      <th>start_dt</th>\n",
       "      <th>arv_dt</th>\n",
       "      <th>start_place_cd</th>\n",
       "      <th>arv_place_cd</th>\n",
       "      <th>sex_nm</th>\n",
       "      <th>agegrd_nm</th>\n",
       "      <th>start_arv_place_type</th>\n",
       "      <th>mvmn_time_sum</th>\n",
       "      <th>mvmn_dstc</th>\n",
       "      <th>popl_cnt</th>\n",
       "    </tr>\n",
       "  </thead>\n",
       "  <tbody>\n",
       "    <tr>\n",
       "      <th>0</th>\n",
       "      <td>2019-09-30 05:00</td>\n",
       "      <td>2019-10-01 01:00</td>\n",
       "      <td>110107</td>\n",
       "      <td>350124</td>\n",
       "      <td>F</td>\n",
       "      <td>15</td>\n",
       "      <td>HE</td>\n",
       "      <td>1194</td>\n",
       "      <td>188308</td>\n",
       "      <td>4.06</td>\n",
       "    </tr>\n",
       "    <tr>\n",
       "      <th>1</th>\n",
       "      <td>2019-09-30 06:00</td>\n",
       "      <td>2019-10-01 00:20</td>\n",
       "      <td>110987</td>\n",
       "      <td>340217</td>\n",
       "      <td>M</td>\n",
       "      <td>25</td>\n",
       "      <td>EH</td>\n",
       "      <td>1086</td>\n",
       "      <td>82548</td>\n",
       "      <td>2.29</td>\n",
       "    </tr>\n",
       "    <tr>\n",
       "      <th>2</th>\n",
       "      <td>2019-09-30 06:20</td>\n",
       "      <td>2019-10-01 00:00</td>\n",
       "      <td>210353</td>\n",
       "      <td>111424</td>\n",
       "      <td>M</td>\n",
       "      <td>60</td>\n",
       "      <td>EH</td>\n",
       "      <td>1051</td>\n",
       "      <td>312459</td>\n",
       "      <td>3.48</td>\n",
       "    </tr>\n",
       "    <tr>\n",
       "      <th>3</th>\n",
       "      <td>2019-09-30 06:40</td>\n",
       "      <td>2019-10-01 01:00</td>\n",
       "      <td>111476</td>\n",
       "      <td>350476</td>\n",
       "      <td>F</td>\n",
       "      <td>20</td>\n",
       "      <td>HE</td>\n",
       "      <td>1105</td>\n",
       "      <td>167493</td>\n",
       "      <td>2.18</td>\n",
       "    </tr>\n",
       "    <tr>\n",
       "      <th>4</th>\n",
       "      <td>2019-09-30 07:00</td>\n",
       "      <td>2019-10-01 01:00</td>\n",
       "      <td>230489</td>\n",
       "      <td>110189</td>\n",
       "      <td>F</td>\n",
       "      <td>45</td>\n",
       "      <td>HE</td>\n",
       "      <td>1077</td>\n",
       "      <td>62420</td>\n",
       "      <td>3.34</td>\n",
       "    </tr>\n",
       "  </tbody>\n",
       "</table>\n",
       "</div>"
      ],
      "text/plain": [
       "           start_dt            arv_dt  start_place_cd  arv_place_cd sex_nm  \\\n",
       "0  2019-09-30 05:00  2019-10-01 01:00          110107        350124      F   \n",
       "1  2019-09-30 06:00  2019-10-01 00:20          110987        340217      M   \n",
       "2  2019-09-30 06:20  2019-10-01 00:00          210353        111424      M   \n",
       "3  2019-09-30 06:40  2019-10-01 01:00          111476        350476      F   \n",
       "4  2019-09-30 07:00  2019-10-01 01:00          230489        110189      F   \n",
       "\n",
       "   agegrd_nm start_arv_place_type  mvmn_time_sum  mvmn_dstc  popl_cnt  \n",
       "0         15                   HE           1194     188308      4.06  \n",
       "1         25                   EH           1086      82548      2.29  \n",
       "2         60                   EH           1051     312459      3.48  \n",
       "3         20                   HE           1105     167493      2.18  \n",
       "4         45                   HE           1077      62420      3.34  "
      ]
     },
     "execution_count": 54,
     "metadata": {},
     "output_type": "execute_result"
    }
   ],
   "source": [
    "FILE_PATH = \"E:\\\\DMU\\\\공모전 등\\\\Seoul BigData\\\\Big-Data-Campus\\\\Sample_Data\\\\csv\\\\서울시 내국인 KT 생활이동 데이터.csv\"\n",
    "\n",
    "df = pd.read_csv(FILE_PATH, sep= ',', encoding='euc-kr')\n",
    "df.columns = [re.sub(r'[^a-zA-Z_]', '', col) for col in df.columns]\n",
    "df.head(5)"
   ]
  },
  {
   "cell_type": "code",
   "execution_count": 55,
   "id": "61ca8fc5",
   "metadata": {},
   "outputs": [],
   "source": [
    "df['start_dt'] = pd.to_datetime(df['start_dt'])\n",
    "df['move_st_hr'] = df['start_dt'].dt.floor(\"h\")\n",
    "df['arv_dt'] = pd.to_datetime(df['arv_dt'])\n",
    "df['move_arv_hr'] = df['arv_dt'].dt.floor(\"h\")\n",
    "\n",
    "df['age_grp'] = (df['agegrd_nm'] // 10 ) * 10"
   ]
  },
  {
   "cell_type": "code",
   "execution_count": null,
   "id": "1cdd5752",
   "metadata": {},
   "outputs": [
    {
     "name": "stdout",
     "output_type": "stream",
     "text": [
      "             start_dt  popl_cnt\n",
      "0 2019-09-30 05:00:00      4.06\n",
      "1 2019-09-30 06:00:00      2.29\n",
      "2 2019-09-30 06:20:00      3.48\n",
      "3 2019-09-30 06:40:00      2.18\n",
      "4 2019-09-30 07:00:00      5.55\n",
      "5 2019-09-30 07:20:00      4.79\n",
      "6 2019-09-30 07:40:00      6.86\n",
      "7 2019-09-30 08:00:00      5.33\n",
      "8 2019-09-30 08:20:00     13.72\n",
      "9 2019-09-30 08:40:00      5.33\n",
      "               arv_dt  popl_cnt\n",
      "0 2019-10-01 00:00:00    225.27\n",
      "1 2019-10-01 00:20:00    132.04\n",
      "2 2019-10-01 00:40:00     84.92\n",
      "3 2019-10-01 01:00:00    221.32\n",
      "4 2019-10-01 01:20:00    161.33\n",
      "5 2019-10-01 01:40:00     45.90\n",
      "6 2019-10-01 02:00:00     36.40\n",
      "7 2019-10-01 02:20:00     10.51\n",
      "8 2019-10-01 02:40:00      6.01\n",
      "9 2019-10-01 03:20:00      8.87\n"
     ]
    }
   ],
   "source": [
    "start_df = df.groupby('move_st_hr')['popl_cnt'].sum().reset_index()\n",
    "arv_df = df.groupby('move_arv_hr')['popl_cnt'].sum().reset_index()\n",
    "\n",
    "print(start_df.head(10))\n",
    "print(arv_df.head(10))"
   ]
  },
  {
   "cell_type": "code",
   "execution_count": null,
   "id": "85951da6",
   "metadata": {},
   "outputs": [
    {
     "name": "stdout",
     "output_type": "stream",
     "text": [
      "           move_st_hr  age_grp  popl_cnt\n",
      "0 2019-09-30 05:00:00       10      4.06\n",
      "1 2019-09-30 06:00:00       20      4.47\n",
      "2 2019-09-30 06:00:00       60      3.48\n",
      "3 2019-09-30 07:00:00       20      4.27\n",
      "4 2019-09-30 07:00:00       30      2.73\n",
      "5 2019-09-30 07:00:00       40      3.34\n",
      "6 2019-09-30 07:00:00       50      3.31\n",
      "7 2019-09-30 07:00:00       60      3.55\n",
      "8 2019-09-30 08:00:00       20      7.13\n",
      "9 2019-09-30 08:00:00       30      5.44\n",
      "          move_arv_hr  age_grp  popl_cnt\n",
      "0 2019-10-01 00:00:00        0     28.24\n",
      "1 2019-10-01 00:00:00       10     45.09\n",
      "2 2019-10-01 00:00:00       20     64.52\n",
      "3 2019-10-01 00:00:00       30     61.71\n",
      "4 2019-10-01 00:00:00       40     92.64\n",
      "5 2019-10-01 00:00:00       50     51.96\n",
      "6 2019-10-01 00:00:00       60     50.21\n",
      "7 2019-10-01 00:00:00       70     28.28\n",
      "8 2019-10-01 00:00:00       80     19.58\n",
      "9 2019-10-01 01:00:00        0     36.11\n"
     ]
    }
   ],
   "source": [
    "#이것도 반출\n",
    "\n",
    "start_df = df.groupby(['move_st_hr', 'age_grp'])['popl_cnt'].sum().reset_index()\n",
    "arv_df = df.groupby(['move_arv_hr','age_grp'])['popl_cnt'].sum().reset_index()\n",
    "\n",
    "print(start_df.head(10))\n",
    "print(arv_df.head(10))"
   ]
  },
  {
   "cell_type": "code",
   "execution_count": 58,
   "id": "fba6ca17",
   "metadata": {},
   "outputs": [],
   "source": [
    "start_df.to_csv('start_age.csv', index = False, encoding = 'euc-kr')\n",
    "arv_df.to_csv('arv_age.csv', index = False, encoding = 'euc-kr')"
   ]
  },
  {
   "cell_type": "code",
   "execution_count": null,
   "id": "682aeff7",
   "metadata": {},
   "outputs": [],
   "source": [
    "# start_df = df.groupby(['start_dt', 'age_grp','행정동 컬럼'])['popl_cnt'].sum().reset_index()\n",
    "# arv_df = df.groupby(['arv_dt','age_grp','행정동 컬럼'])['popl_cnt'].sum().reset_index()\n",
    "\n",
    "# - 반출 필요"
   ]
  },
  {
   "cell_type": "code",
   "execution_count": 77,
   "id": "6906ce14",
   "metadata": {},
   "outputs": [
    {
     "data": {
      "image/png": "[encoded data removed]",
      "text/plain": [
       "<Figure size 1500x600 with 1 Axes>"
      ]
     },
     "metadata": {},
     "output_type": "display_data"
    }
   ],
   "source": [
    "plt.rcParams['font.family'] = 'Malgun Gothic'   # 한글 폰트\n",
    "plt.rcParams['axes.unicode_minus'] = False  \n",
    "\n",
    "# df[\"move_st_hr\"] = df[\"move_st_hr\"].dt.hour\n",
    "plt.figure(figsize=(15, 6))\n",
    "sns.barplot(data=df, x = \"move_st_hr\", y = \"popl_cnt\", hue = \"age_grp\")\n",
    "\n",
    "plt.xlabel(\"시간\")\n",
    "plt.ylabel(\"유동인구\")\n",
    "plt.title(\"연령대별 인구 수 (별 마커 표시)\")\n",
    "plt.grid(True, linestyle=\"--\", alpha=0.5)\n",
    "\n",
    "plt.legend()\n",
    "plt.show()"
   ]
  },
  {
   "cell_type": "code",
   "execution_count": 69,
   "id": "8ab812f0",
   "metadata": {},
   "outputs": [
    {
     "data": {
      "text/plain": [
       "0   2019-09-30 05:00:00\n",
       "1   2019-09-30 06:00:00\n",
       "2   2019-09-30 06:00:00\n",
       "3   2019-09-30 06:00:00\n",
       "4   2019-09-30 07:00:00\n",
       "Name: move_st_hr, dtype: datetime64[ns]"
      ]
     },
     "execution_count": 69,
     "metadata": {},
     "output_type": "execute_result"
    }
   ],
   "source": [
    "df[\"move_st_hr\"].head()"
   ]
  },
  {
   "cell_type": "code",
   "execution_count": null,
   "id": "c17f3058",
   "metadata": {},
   "outputs": [],
   "source": []
  }
 ],
 "metadata": {
  "kernelspec": {
   "display_name": "base",
   "language": "python",
   "name": "python3"
  },
  "language_info": {
   "codemirror_mode": {
    "name": "ipython",
    "version": 3
   },
   "file_extension": ".py",
   "mimetype": "text/x-python",
   "name": "python",
   "nbconvert_exporter": "python",
   "pygments_lexer": "ipython3",
   "version": "3.12.7"
  }
 },
 "nbformat": 4,
 "nbformat_minor": 5
}
