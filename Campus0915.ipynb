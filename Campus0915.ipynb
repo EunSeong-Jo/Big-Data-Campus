{
 "cells": [
  {
   "cell_type": "code",
   "execution_count": 1,
   "id": "019b20a0-6102-417c-b4f5-237b96b906bf",
   "metadata": {},
   "outputs": [],
   "source": [
    "import numpy as np\n",
    "import pandas as pd\n",
    "import matplotlib.pyplot as plt\n",
    "import seaborn as sns"
   ]
  },
  {
   "cell_type": "code",
   "execution_count": 2,
   "id": "5e20d841-08d8-4209-9b2c-7fbb8dcd96a5",
   "metadata": {},
   "outputs": [
    {
     "name": "stdout",
     "output_type": "stream",
     "text": [
      "Hello World\n"
     ]
    }
   ],
   "source": [
    "print(\"Hello World\")"
   ]
  },
  {
   "cell_type": "code",
   "execution_count": 3,
   "id": "2ec6f1b0-44f0-462c-b384-51415c100baf",
   "metadata": {},
   "outputs": [],
   "source": [
    "code = pd.read_csv('polyCode.txt', sep = \"|\")\n"
   ]
  },
  {
   "cell_type": "code",
   "execution_count": null,
   "id": "b1027600-c4b2-40c4-96ee-34e4a931b685",
   "metadata": {},
   "outputs": [],
   "source": [
    "# code.head()"
   ]
  },
  {
   "cell_type": "code",
   "execution_count": 5,
   "id": "02c17bdf-0c55-4f25-9c7c-54ec671cd3bd",
   "metadata": {},
   "outputs": [
    {
     "data": {
      "text/plain": [
       "`polycode`     18884\n",
       "`sido`         18884\n",
       "`emd`          18884\n",
       "`name`         18884\n",
       "`full_name`    18884\n",
       "`area`         18884\n",
       "`remark`       18884\n",
       "dtype: int64"
      ]
     },
     "execution_count": 5,
     "metadata": {},
     "output_type": "execute_result"
    }
   ],
   "source": [
    "code.count()"
   ]
  },
  {
   "cell_type": "code",
   "execution_count": 6,
   "id": "4ddcfc28-1bf4-42da-bc9f-c212223100b9",
   "metadata": {},
   "outputs": [],
   "source": [
    "code['polycode'] = code['`polycode`'].str.replace('`', '', regex = False)"
   ]
  },
  {
   "cell_type": "code",
   "execution_count": 7,
   "id": "e5dd22a1-0ff9-4be9-9e1e-7b51dcf88d72",
   "metadata": {},
   "outputs": [],
   "source": [
    "code['name'] = code['`name`'].str.replace('`', '', regex = False)"
   ]
  },
  {
   "cell_type": "code",
   "execution_count": 8,
   "id": "86e35ce3-97f6-4323-acc9-aea5a5845c5a",
   "metadata": {},
   "outputs": [],
   "source": [
    "code['full_name'] = code['`full_name`'].str.replace('`', '', regex = False)"
   ]
  },
  {
   "cell_type": "code",
   "execution_count": 9,
   "id": "fc6737ec-af39-486b-9ebf-88dbc1820857",
   "metadata": {},
   "outputs": [],
   "source": [
    "codeDict = dict(zip(code['polycode'], code['full_name']))"
   ]
  },
  {
   "cell_type": "code",
   "execution_count": 10,
   "id": "ab677e28-2be7-461f-974b-09efb4040aeb",
   "metadata": {},
   "outputs": [],
   "source": [
    "# codeDict"
   ]
  },
  {
   "cell_type": "code",
   "execution_count": null,
   "id": "3f332fc7-90df-4958-9257-7ba3e7a3b60e",
   "metadata": {},
   "outputs": [],
   "source": [
    "data0701 = pd.read_csv('datas/kt_move/202507/20250701_OUTPUT.txt', sep = '|')\n",
    "# data0701.head()"
   ]
  },
  {
   "cell_type": "code",
   "execution_count": 12,
   "id": "7b075580-dc9d-425b-8d83-02f0e0ed218a",
   "metadata": {},
   "outputs": [],
   "source": [
    "data0701['start_place_cd'] = data0701['start_place_cd'].astype(str)\n",
    "data0701['arv_place_cd'] = data0701['arv_place_cd'].astype(str)"
   ]
  },
  {
   "cell_type": "code",
   "execution_count": 13,
   "id": "8f50e194-c886-43f0-b867-175730476030",
   "metadata": {},
   "outputs": [
    {
     "data": {
      "text/plain": [
       "0    111689\n",
       "1    240034\n",
       "2    340241\n",
       "3    110366\n",
       "4    380120\n",
       "Name: start_place_cd, dtype: object"
      ]
     },
     "execution_count": 13,
     "metadata": {},
     "output_type": "execute_result"
    }
   ],
   "source": [
    "data0701['start_place_cd'].head()"
   ]
  },
  {
   "cell_type": "code",
   "execution_count": 35,
   "id": "dd6eef19-561f-495c-9e3b-c67306b4a910",
   "metadata": {},
   "outputs": [],
   "source": [
    "# data0701.head()"
   ]
  },
  {
   "cell_type": "code",
   "execution_count": 15,
   "id": "48ca6bbd-06a3-4818-90f5-7e4488b4fcc7",
   "metadata": {},
   "outputs": [
    {
     "name": "stdout",
     "output_type": "stream",
     "text": [
      "Hello\n"
     ]
    }
   ],
   "source": [
    "print(\"Hello\")"
   ]
  },
  {
   "cell_type": "code",
   "execution_count": 16,
   "id": "6a6ce1a4-13a5-4360-951e-54a69f463ca3",
   "metadata": {},
   "outputs": [],
   "source": [
    "data0701['start_place_cd'] = data0701['start_place_cd'].map(codeDict)\n",
    "data0701['arv_place_cd'] = data0701['arv_place_cd'].map(codeDict)"
   ]
  },
  {
   "cell_type": "code",
   "execution_count": 34,
   "id": "1510a127-0d91-4c28-a02e-6e6deff10dce",
   "metadata": {},
   "outputs": [],
   "source": [
    "# data0701.head()"
   ]
  },
  {
   "cell_type": "code",
   "execution_count": 18,
   "id": "929bf76a-bb13-4eb1-b314-998c0b0655e5",
   "metadata": {},
   "outputs": [],
   "source": [
    "data0701['start_dt'] = pd.to_datetime(data0701['start_dt'])"
   ]
  },
  {
   "cell_type": "code",
   "execution_count": 19,
   "id": "c721db2d-ceeb-4bc7-b84a-7e33bb0b9f7a",
   "metadata": {},
   "outputs": [],
   "source": [
    "data0701['move_st_hr'] = data0701['start_dt'].dt.floor(\"h\")"
   ]
  },
  {
   "cell_type": "code",
   "execution_count": 20,
   "id": "5e0d4d80-1718-4607-b209-dcc0e8267691",
   "metadata": {},
   "outputs": [
    {
     "data": {
      "text/plain": [
       "0         2025-06-30 03:00:00\n",
       "1         2025-06-30 07:00:00\n",
       "2         2025-06-30 07:00:00\n",
       "3         2025-06-30 11:00:00\n",
       "4         2025-06-30 11:00:00\n",
       "                  ...        \n",
       "7742941   2025-07-01 09:00:00\n",
       "7742942   2025-07-01 09:00:00\n",
       "7742943   2025-07-01 09:00:00\n",
       "7742944   2025-07-01 09:00:00\n",
       "7742945   2025-07-01 09:00:00\n",
       "Name: move_st_hr, Length: 7742946, dtype: datetime64[ns]"
      ]
     },
     "execution_count": 20,
     "metadata": {},
     "output_type": "execute_result"
    }
   ],
   "source": [
    "data0701['move_st_hr']"
   ]
  },
  {
   "cell_type": "code",
   "execution_count": 21,
   "id": "f6becae0-bde8-4f1e-a42a-5f9107099988",
   "metadata": {},
   "outputs": [],
   "source": [
    "data0701['arv_dt'] = pd.to_datetime(data0701['arv_dt'])\n",
    "data0701['move_arv_hr'] = data0701['arv_dt'].dt.floor(\"h\")"
   ]
  },
  {
   "cell_type": "code",
   "execution_count": 22,
   "id": "2942f567-46e6-4fe2-92d7-6a6891e3c618",
   "metadata": {},
   "outputs": [
    {
     "data": {
      "text/html": [
       "<div>\n",
       "<style scoped>\n",
       "    .dataframe tbody tr th:only-of-type {\n",
       "        vertical-align: middle;\n",
       "    }\n",
       "\n",
       "    .dataframe tbody tr th {\n",
       "        vertical-align: top;\n",
       "    }\n",
       "\n",
       "    .dataframe thead th {\n",
       "        text-align: right;\n",
       "    }\n",
       "</style>\n",
       "<table border=\"1\" class=\"dataframe\">\n",
       "  <thead>\n",
       "    <tr style=\"text-align: right;\">\n",
       "      <th></th>\n",
       "      <th>move_st_hr</th>\n",
       "      <th>move_arv_hr</th>\n",
       "      <th>start_place_cd</th>\n",
       "      <th>arv_place_cd</th>\n",
       "      <th>sex_nm</th>\n",
       "    </tr>\n",
       "  </thead>\n",
       "  <tbody>\n",
       "    <tr>\n",
       "      <th>0</th>\n",
       "      <td>2025-06-30 03:00:00</td>\n",
       "      <td>2025-07-01 00:00:00</td>\n",
       "      <td>서울특별시 송파구 송파1동</td>\n",
       "      <td>경기도 평택시 포승읍</td>\n",
       "      <td>M</td>\n",
       "    </tr>\n",
       "    <tr>\n",
       "      <th>1</th>\n",
       "      <td>2025-06-30 07:00:00</td>\n",
       "      <td>2025-07-01 00:00:00</td>\n",
       "      <td>광주광역시 동구 학동</td>\n",
       "      <td>서울특별시 구로구 구로5동</td>\n",
       "      <td>M</td>\n",
       "    </tr>\n",
       "    <tr>\n",
       "      <th>2</th>\n",
       "      <td>2025-06-30 07:00:00</td>\n",
       "      <td>2025-07-01 04:00:00</td>\n",
       "      <td>충청남도 공주시 이인면</td>\n",
       "      <td>서울특별시 강서구 가양1동</td>\n",
       "      <td>M</td>\n",
       "    </tr>\n",
       "    <tr>\n",
       "      <th>3</th>\n",
       "      <td>2025-06-30 11:00:00</td>\n",
       "      <td>2025-07-01 00:00:00</td>\n",
       "      <td>서울특별시 중랑구 면목5동</td>\n",
       "      <td>경상북도 칠곡군 석적읍</td>\n",
       "      <td>M</td>\n",
       "    </tr>\n",
       "    <tr>\n",
       "      <th>4</th>\n",
       "      <td>2025-06-30 11:00:00</td>\n",
       "      <td>2025-07-01 01:00:00</td>\n",
       "      <td>경상남도 진주시 중앙동</td>\n",
       "      <td>서울특별시 강남구 논현1동</td>\n",
       "      <td>F</td>\n",
       "    </tr>\n",
       "  </tbody>\n",
       "</table>\n",
       "</div>"
      ],
      "text/plain": [
       "           move_st_hr         move_arv_hr  start_place_cd    arv_place_cd  \\\n",
       "0 2025-06-30 03:00:00 2025-07-01 00:00:00  서울특별시 송파구 송파1동     경기도 평택시 포승읍   \n",
       "1 2025-06-30 07:00:00 2025-07-01 00:00:00     광주광역시 동구 학동  서울특별시 구로구 구로5동   \n",
       "2 2025-06-30 07:00:00 2025-07-01 04:00:00    충청남도 공주시 이인면  서울특별시 강서구 가양1동   \n",
       "3 2025-06-30 11:00:00 2025-07-01 00:00:00  서울특별시 중랑구 면목5동    경상북도 칠곡군 석적읍   \n",
       "4 2025-06-30 11:00:00 2025-07-01 01:00:00    경상남도 진주시 중앙동  서울특별시 강남구 논현1동   \n",
       "\n",
       "  sex_nm  \n",
       "0      M  \n",
       "1      M  \n",
       "2      M  \n",
       "3      M  \n",
       "4      F  "
      ]
     },
     "execution_count": 22,
     "metadata": {},
     "output_type": "execute_result"
    }
   ],
   "source": [
    "data0701[['move_st_hr', 'move_arv_hr', 'start_place_cd', 'arv_place_cd', 'sex_nm']].head()"
   ]
  },
  {
   "cell_type": "code",
   "execution_count": 23,
   "id": "14df22e4-a58d-4a62-9f36-9b62d3724755",
   "metadata": {},
   "outputs": [],
   "source": [
    "data0701['age_grp'] = (data0701['agegrd_nm'] // 10 ) * 10"
   ]
  },
  {
   "cell_type": "code",
   "execution_count": 24,
   "id": "fa50a044-15d7-4739-a1f9-fb5064cfda09",
   "metadata": {},
   "outputs": [
    {
     "data": {
      "text/plain": [
       "0          40\n",
       "1          40\n",
       "2          30\n",
       "3          50\n",
       "4          40\n",
       "           ..\n",
       "7742941    20\n",
       "7742942    20\n",
       "7742943    30\n",
       "7742944    80\n",
       "7742945    30\n",
       "Name: age_grp, Length: 7742946, dtype: int64"
      ]
     },
     "execution_count": 24,
     "metadata": {},
     "output_type": "execute_result"
    }
   ],
   "source": [
    "data0701['age_grp']"
   ]
  },
  {
   "cell_type": "code",
   "execution_count": 25,
   "id": "60c6fdb2-c404-46cc-8846-691d6a461b07",
   "metadata": {},
   "outputs": [],
   "source": [
    "arange_datas = data0701[['move_st_hr', 'move_arv_hr', 'start_place_cd', 'arv_place_cd', 'sex_nm', 'age_grp','popl_cnt']]"
   ]
  },
  {
   "cell_type": "code",
   "execution_count": 26,
   "id": "498a2b42-75d8-4901-a39c-ca9f7b0c45a8",
   "metadata": {},
   "outputs": [],
   "source": [
    "arange_datas.to_csv('sample2.csv', encoding = 'euc-kr')"
   ]
  },
  {
   "cell_type": "code",
   "execution_count": 28,
   "id": "7bd1f784-a4e9-44be-a5da-b20499dcf81b",
   "metadata": {},
   "outputs": [],
   "source": [
    "import os\n",
    "import glob"
   ]
  },
  {
   "cell_type": "code",
   "execution_count": 75,
   "id": "73d50499-7140-4ff2-836c-abc72c7cab19",
   "metadata": {},
   "outputs": [],
   "source": [
    "# input_folder = 'datas/kt_move/202507'\n",
    "# output_folder = 'output_datas'\n",
    "\n",
    "# os.makedirs(output_folder, exist_ok = True)\n",
    "# file_list = glob.glob(os.path.join(input_folder, \"*.txt\"))"
   ]
  },
  {
   "cell_type": "code",
   "execution_count": 80,
   "id": "c78dd6d5-e030-4c92-9535-8afb904410db",
   "metadata": {},
   "outputs": [],
   "source": [
    "# for file_path in file_list:\n",
    "#     file_name = os.path.basename(file_path)\n",
    "\n",
    "#     df = pd.read_csv(file_path, sep = '|')\n",
    "#     df['start_place_cd'] = df['start_place_cd'].astype(str)\n",
    "#     df['arv_place_cd'] = df['arv_place_cd'].astype(str)\n",
    "\n",
    "#     df['start_place_cd'] = df['start_place_cd'].map(codeDict)\n",
    "#     df['arv_place_cd'] = df['arv_place_cd'].map(codeDict)\n",
    "    \n",
    "#     df['start_dt'] = pd.to_datetime(df['start_dt'])\n",
    "#     df['move_st_hr'] = df['start_dt'].dt.floor(\"h\")\n",
    "#     df['arv_dt'] = pd.to_datetime(df['arv_dt'])\n",
    "#     df['move_arv_hr'] = df['arv_dt'].dt.floor(\"h\")\n",
    "    \n",
    "#     df['age_grp'] = (df['agegrd_nm'] // 10 ) * 10\n",
    "    \n",
    "#     arange_datas = df[['move_st_hr', 'move_arv_hr', 'start_place_cd', 'arv_place_cd', 'sex_nm', 'age_grp','popl_cnt']]\n",
    "#     file_name = str(file_name).replace('.txt', '.csv')\n",
    "#     output_path = os.path.join(output_folder, file_name)\n",
    "#     arange_datas.to_csv(output_path, index = False, encoding = 'euc-kr')\n",
    "#     #"
   ]
  },
  {
   "cell_type": "code",
   "execution_count": 33,
   "id": "789de5a7-58e1-4ca0-84b1-f984d4c7ee53",
   "metadata": {},
   "outputs": [],
   "source": [
    "input_folder = 'datas/kt_move/202507'\n",
    "output_folder = 'output_data_temp'\n",
    "\n",
    "os.makedirs(output_folder, exist_ok = True)\n",
    "\n",
    "\n",
    "# for i in range(5, 7):\n",
    "#     input_folder = input_folder + str(i + 1)\n",
    "file_list = glob.glob(os.path.join(input_folder, \"*.txt\"))\n",
    "for file_path in file_list:\n",
    "    file_name = os.path.basename(file_path)\n",
    "\n",
    "    df = pd.read_csv(file_path, sep = '|')\n",
    "    df['start_place_cd'] = df['start_place_cd'].astype(str)\n",
    "    df['arv_place_cd'] = df['arv_place_cd'].astype(str)\n",
    "\n",
    "    df['start_place_cd'] = df['start_place_cd'].map(codeDict)\n",
    "    df['arv_place_cd'] = df['arv_place_cd'].map(codeDict)\n",
    "    \n",
    "    df['start_dt'] = pd.to_datetime(df['start_dt'])\n",
    "    df['move_st_hr'] = df['start_dt'].dt.floor(\"h\")\n",
    "    df['arv_dt'] = pd.to_datetime(df['arv_dt'])\n",
    "    df['move_arv_hr'] = df['arv_dt'].dt.floor(\"h\")\n",
    "    \n",
    "    df['age_grp'] = (df['agegrd_nm'] // 10 ) * 10\n",
    "    \n",
    "    arange_datas = df[['move_st_hr', 'move_arv_hr', 'start_place_cd', 'arv_place_cd', 'sex_nm', 'age_grp','popl_cnt']]\n",
    "    mask = (arange_datas['move_st_hr'].dt.hour >= 11) & (arange_datas['move_st_hr'].dt.hour <= 16) \\\n",
    "    | (arange_datas['move_arv_hr'].dt.hour >= 11) & (arange_datas['move_arv_hr'].dt.hour <= 16)\n",
    "    arange_datas = arange_datas[mask]\n",
    "    file_name = str(file_name).replace('.txt', '.csv')\n",
    "    output_path = os.path.join(output_folder, file_name)\n",
    "    arange_datas.to_csv(output_path, index = False, encoding = 'euc-kr')\n",
    "   "
   ]
  },
  {
   "cell_type": "code",
   "execution_count": null,
   "id": "9d13f1da-d153-436c-bc90-5a4501a1c0d2",
   "metadata": {},
   "outputs": [],
   "source": []
  }
 ],
 "metadata": {
  "kernelspec": {
   "display_name": "Python 3 (ipykernel)",
   "language": "python",
   "name": "python3"
  },
  "language_info": {
   "codemirror_mode": {
    "name": "ipython",
    "version": 3
   },
   "file_extension": ".py",
   "mimetype": "text/x-python",
   "name": "python",
   "nbconvert_exporter": "python",
   "pygments_lexer": "ipython3",
   "version": "3.12.7"
  }
 },
 "nbformat": 4,
 "nbformat_minor": 5
}
